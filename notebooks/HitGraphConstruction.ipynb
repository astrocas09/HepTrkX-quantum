{
 "cells": [
  {
   "cell_type": "markdown",
   "metadata": {},
   "source": [
    "# Hit graph construction\n",
    "\n",
    "This is a notebook for developing and analyzing the procedure for constructing hit graphs."
   ]
  },
  {
   "cell_type": "code",
   "execution_count": 1,
   "metadata": {},
   "outputs": [],
   "source": [
    "import os\n",
    "import sys"
   ]
  },
  {
   "cell_type": "code",
   "execution_count": 2,
   "metadata": {},
   "outputs": [],
   "source": [
    "import numpy as np\n",
    "import pandas as pd\n",
    "import matplotlib\n",
    "import matplotlib.pyplot as plt\n",
    "plt.style.use('bmh')\n",
    "import trackml.dataset"
   ]
  },
  {
   "cell_type": "code",
   "execution_count": 3,
   "metadata": {},
   "outputs": [],
   "source": [
    "# change font size\n",
    "font = {\n",
    "        'size'   : 16,\n",
    "    }\n",
    "\n",
    "axes = {\n",
    "        'titlesize' : 16,\n",
    "        'labelsize' : 16,\n",
    "    }\n",
    "\n",
    "matplotlib.rc('font', **font)\n",
    "matplotlib.rc('axes', **axes)"
   ]
  },
  {
   "cell_type": "markdown",
   "metadata": {},
   "source": [
    "## Load the data"
   ]
  },
  {
   "cell_type": "code",
   "execution_count": 4,
   "metadata": {},
   "outputs": [],
   "source": [
    "# local path to data\n",
    "data_dir = '../data/example_event/raw/'"
   ]
  },
  {
   "cell_type": "code",
   "execution_count": 5,
   "metadata": {},
   "outputs": [],
   "source": [
    "n_events = 1\n",
    "\n",
    "# Find the input files\n",
    "all_files = os.listdir(data_dir)\n",
    "suffix = '-hits.csv'\n",
    "file_prefixes = sorted(os.path.join(data_dir, f.replace(suffix, ''))\n",
    "                       for f in all_files if f.endswith(suffix))\n",
    "file_prefixes = file_prefixes[:n_events]"
   ]
  },
  {
   "cell_type": "code",
   "execution_count": 6,
   "metadata": {},
   "outputs": [],
   "source": [
    "# Start with just one event\n",
    "prefix = file_prefixes[0]\n",
    "evtid = int(prefix[-9:])\n",
    "\n",
    "hits, particles, truth = trackml.dataset.load_event(\n",
    "    prefix, parts=['hits', 'particles', 'truth'])"
   ]
  },
  {
   "cell_type": "code",
   "execution_count": 7,
   "metadata": {},
   "outputs": [
    {
     "data": {
      "text/html": [
       "<div>\n",
       "<style scoped>\n",
       "    .dataframe tbody tr th:only-of-type {\n",
       "        vertical-align: middle;\n",
       "    }\n",
       "\n",
       "    .dataframe tbody tr th {\n",
       "        vertical-align: top;\n",
       "    }\n",
       "\n",
       "    .dataframe thead th {\n",
       "        text-align: right;\n",
       "    }\n",
       "</style>\n",
       "<table border=\"1\" class=\"dataframe\">\n",
       "  <thead>\n",
       "    <tr style=\"text-align: right;\">\n",
       "      <th></th>\n",
       "      <th>hit_id</th>\n",
       "      <th>x</th>\n",
       "      <th>y</th>\n",
       "      <th>z</th>\n",
       "      <th>volume_id</th>\n",
       "      <th>layer_id</th>\n",
       "      <th>module_id</th>\n",
       "    </tr>\n",
       "  </thead>\n",
       "  <tbody>\n",
       "    <tr>\n",
       "      <th>0</th>\n",
       "      <td>1</td>\n",
       "      <td>-87.776703</td>\n",
       "      <td>-9.85009</td>\n",
       "      <td>-1502.5</td>\n",
       "      <td>7</td>\n",
       "      <td>2</td>\n",
       "      <td>1</td>\n",
       "    </tr>\n",
       "    <tr>\n",
       "      <th>1</th>\n",
       "      <td>2</td>\n",
       "      <td>-61.552299</td>\n",
       "      <td>-2.11084</td>\n",
       "      <td>-1502.5</td>\n",
       "      <td>7</td>\n",
       "      <td>2</td>\n",
       "      <td>1</td>\n",
       "    </tr>\n",
       "  </tbody>\n",
       "</table>\n",
       "</div>"
      ],
      "text/plain": [
       "   hit_id          x        y       z  volume_id  layer_id  module_id\n",
       "0       1 -87.776703 -9.85009 -1502.5          7         2          1\n",
       "1       2 -61.552299 -2.11084 -1502.5          7         2          1"
      ]
     },
     "execution_count": 7,
     "metadata": {},
     "output_type": "execute_result"
    }
   ],
   "source": [
    "hits.head(2)"
   ]
  },
  {
   "cell_type": "code",
   "execution_count": 8,
   "metadata": {},
   "outputs": [
    {
     "data": {
      "text/html": [
       "<div>\n",
       "<style scoped>\n",
       "    .dataframe tbody tr th:only-of-type {\n",
       "        vertical-align: middle;\n",
       "    }\n",
       "\n",
       "    .dataframe tbody tr th {\n",
       "        vertical-align: top;\n",
       "    }\n",
       "\n",
       "    .dataframe thead th {\n",
       "        text-align: right;\n",
       "    }\n",
       "</style>\n",
       "<table border=\"1\" class=\"dataframe\">\n",
       "  <thead>\n",
       "    <tr style=\"text-align: right;\">\n",
       "      <th></th>\n",
       "      <th>particle_id</th>\n",
       "      <th>vx</th>\n",
       "      <th>vy</th>\n",
       "      <th>vz</th>\n",
       "      <th>px</th>\n",
       "      <th>py</th>\n",
       "      <th>pz</th>\n",
       "      <th>q</th>\n",
       "      <th>nhits</th>\n",
       "    </tr>\n",
       "  </thead>\n",
       "  <tbody>\n",
       "    <tr>\n",
       "      <th>0</th>\n",
       "      <td>4503737066323968</td>\n",
       "      <td>0.000308</td>\n",
       "      <td>0.000958</td>\n",
       "      <td>4.53842</td>\n",
       "      <td>-0.148505</td>\n",
       "      <td>0.036059</td>\n",
       "      <td>0.171901</td>\n",
       "      <td>-1</td>\n",
       "      <td>6</td>\n",
       "    </tr>\n",
       "    <tr>\n",
       "      <th>1</th>\n",
       "      <td>4504011944230912</td>\n",
       "      <td>0.000308</td>\n",
       "      <td>0.000958</td>\n",
       "      <td>4.53842</td>\n",
       "      <td>16.885599</td>\n",
       "      <td>-8.667750</td>\n",
       "      <td>23.668900</td>\n",
       "      <td>1</td>\n",
       "      <td>14</td>\n",
       "    </tr>\n",
       "  </tbody>\n",
       "</table>\n",
       "</div>"
      ],
      "text/plain": [
       "        particle_id        vx        vy       vz         px        py  \\\n",
       "0  4503737066323968  0.000308  0.000958  4.53842  -0.148505  0.036059   \n",
       "1  4504011944230912  0.000308  0.000958  4.53842  16.885599 -8.667750   \n",
       "\n",
       "          pz  q  nhits  \n",
       "0   0.171901 -1      6  \n",
       "1  23.668900  1     14  "
      ]
     },
     "execution_count": 8,
     "metadata": {},
     "output_type": "execute_result"
    }
   ],
   "source": [
    "particles.head(2)"
   ]
  },
  {
   "cell_type": "code",
   "execution_count": 9,
   "metadata": {},
   "outputs": [
    {
     "data": {
      "text/html": [
       "<div>\n",
       "<style scoped>\n",
       "    .dataframe tbody tr th:only-of-type {\n",
       "        vertical-align: middle;\n",
       "    }\n",
       "\n",
       "    .dataframe tbody tr th {\n",
       "        vertical-align: top;\n",
       "    }\n",
       "\n",
       "    .dataframe thead th {\n",
       "        text-align: right;\n",
       "    }\n",
       "</style>\n",
       "<table border=\"1\" class=\"dataframe\">\n",
       "  <thead>\n",
       "    <tr style=\"text-align: right;\">\n",
       "      <th></th>\n",
       "      <th>hit_id</th>\n",
       "      <th>particle_id</th>\n",
       "      <th>tx</th>\n",
       "      <th>ty</th>\n",
       "      <th>tz</th>\n",
       "      <th>tpx</th>\n",
       "      <th>tpy</th>\n",
       "      <th>tpz</th>\n",
       "      <th>weight</th>\n",
       "    </tr>\n",
       "  </thead>\n",
       "  <tbody>\n",
       "    <tr>\n",
       "      <th>0</th>\n",
       "      <td>1</td>\n",
       "      <td>0</td>\n",
       "      <td>-87.771896</td>\n",
       "      <td>-9.84671</td>\n",
       "      <td>-1502.5</td>\n",
       "      <td>586554.000000</td>\n",
       "      <td>275980.000000</td>\n",
       "      <td>-761439.0000</td>\n",
       "      <td>0.000000</td>\n",
       "    </tr>\n",
       "    <tr>\n",
       "      <th>1</th>\n",
       "      <td>2</td>\n",
       "      <td>603485098846715904</td>\n",
       "      <td>-61.572102</td>\n",
       "      <td>-2.10002</td>\n",
       "      <td>-1502.5</td>\n",
       "      <td>-0.735319</td>\n",
       "      <td>-0.039892</td>\n",
       "      <td>-17.9445</td>\n",
       "      <td>0.000011</td>\n",
       "    </tr>\n",
       "  </tbody>\n",
       "</table>\n",
       "</div>"
      ],
      "text/plain": [
       "   hit_id         particle_id         tx       ty      tz            tpx  \\\n",
       "0       1                   0 -87.771896 -9.84671 -1502.5  586554.000000   \n",
       "1       2  603485098846715904 -61.572102 -2.10002 -1502.5      -0.735319   \n",
       "\n",
       "             tpy          tpz    weight  \n",
       "0  275980.000000 -761439.0000  0.000000  \n",
       "1      -0.039892     -17.9445  0.000011  "
      ]
     },
     "execution_count": 9,
     "metadata": {},
     "output_type": "execute_result"
    }
   ],
   "source": [
    "truth.head(2)"
   ]
  },
  {
   "cell_type": "markdown",
   "metadata": {},
   "source": [
    "## Hit selection"
   ]
  },
  {
   "cell_type": "code",
   "execution_count": 10,
   "metadata": {},
   "outputs": [],
   "source": [
    "def select_hits(hits, truth, particles, pt_min=0):\n",
    "    # Barrel volume and layer ids\n",
    "    vlids = [(8,2), (8,4), (8,6), (8,8),\n",
    "             (13,2), (13,4), (13,6), (13,8),\n",
    "             (17,2), (17,4)]\n",
    "    n_det_layers = len(vlids)\n",
    "    # Select barrel layers and assign convenient layer number [0-9]\n",
    "    vlid_groups = hits.groupby(['volume_id', 'layer_id'])\n",
    "    hits = pd.concat([vlid_groups.get_group(vlids[i]).assign(layer=i)\n",
    "                      for i in range(n_det_layers)])\n",
    "    # Calculate particle transverse momentum\n",
    "    pt = np.sqrt(particles.px**2 + particles.py**2)\n",
    "    particles = particles.assign(pt=pt)\n",
    "    # True particle selection.\n",
    "    # Applies pt cut, removes all noise hits.\n",
    "    particles = particles[particles.pt > pt_min]\n",
    "    truth = (truth[['hit_id', 'particle_id']]\n",
    "             .merge(particles[['particle_id', 'pt']], on='particle_id'))\n",
    "    # Calculate derived hits variables\n",
    "    r = np.sqrt(hits.x**2 + hits.y**2)\n",
    "    phi = np.arctan2(hits.y, hits.x)\n",
    "    # Select the data columns we need\n",
    "    hits = (hits[['hit_id', 'z', 'layer']]\n",
    "            .assign(r=r, phi=phi)\n",
    "            .merge(truth[['hit_id', 'particle_id', 'pt']], on='hit_id'))\n",
    "    # Remove duplicate hits\n",
    "    hits = hits.loc[\n",
    "        hits.groupby(['particle_id', 'layer'], as_index=False).r.idxmin()\n",
    "    ]\n",
    "    return hits\n",
    "\n",
    "def calc_dphi(phi1, phi2):\n",
    "    \"\"\"Computes phi2-phi1 given in range [-pi,pi]\"\"\"\n",
    "    dphi = phi2 - phi1\n",
    "    dphi[dphi > np.pi] -= 2*np.pi\n",
    "    dphi[dphi < -np.pi] += 2*np.pi\n",
    "    return dphi"
   ]
  },
  {
   "cell_type": "code",
   "execution_count": 11,
   "metadata": {},
   "outputs": [],
   "source": [
    "pt_min = 1.0 # GeV"
   ]
  },
  {
   "cell_type": "code",
   "execution_count": 12,
   "metadata": {},
   "outputs": [
    {
     "name": "stdout",
     "output_type": "stream",
     "text": [
      "Total hits before cuts: 39690\n"
     ]
    }
   ],
   "source": [
    "hits_no_cut = (select_hits(hits, truth, particles, pt_min=0.0)\n",
    "        .assign(evtid=evtid)\n",
    "        .reset_index(drop=True))\n",
    "print('Total hits before cuts: %d'%len(hits_no_cut))"
   ]
  },
  {
   "cell_type": "code",
   "execution_count": 13,
   "metadata": {},
   "outputs": [
    {
     "data": {
      "image/png": "[encoded data removed]",
      "text/plain": [
       "<Figure size 504x432 with 1 Axes>"
      ]
     },
     "metadata": {
      "needs_background": "light"
     },
     "output_type": "display_data"
    }
   ],
   "source": [
    "fig, ax = plt.subplots(figsize=(7,6))\n",
    "ax.hist(hits_no_cut.pt, bins=50, range=(0, 6));\n",
    "ax.axvline(x=pt_min,linestyle='--',color='black');\n",
    "ax.set_xlabel('pT [GeV]')\n",
    "ax.set_ylabel('# particles');"
   ]
  },
  {
   "cell_type": "code",
   "execution_count": 14,
   "metadata": {},
   "outputs": [
    {
     "name": "stdout",
     "output_type": "stream",
     "text": [
      "Total hits after cuts: 5993\n",
      "Hit selection rate: 0.1510\n"
     ]
    }
   ],
   "source": [
    "hits = (select_hits(hits, truth, particles, pt_min=pt_min)\n",
    "        .assign(evtid=evtid)\n",
    "        .reset_index(drop=True))\n",
    "print('Total hits after cuts: %d'%len(hits))\n",
    "print('Hit selection rate: %.4f'%(len(hits)/len(hits_no_cut)))"
   ]
  },
  {
   "cell_type": "code",
   "execution_count": 15,
   "metadata": {},
   "outputs": [
    {
     "data": {
      "image/png": "[encoded data removed]",
      "text/plain": [
       "<Figure size 504x432 with 1 Axes>"
      ]
     },
     "metadata": {
      "needs_background": "light"
     },
     "output_type": "display_data"
    }
   ],
   "source": [
    "fig, ax = plt.subplots(figsize=(7,6))\n",
    "ax.hist(hits.pt, bins=50, range=(1, 6));\n",
    "ax.set_xlabel('pT [GeV]')\n",
    "ax.set_ylabel('# hits');"
   ]
  },
  {
   "cell_type": "markdown",
   "metadata": {},
   "source": [
    "## Geometry ID pairs\n",
    "\n",
    "We use geometry IDs to select initial set of hit pair segments.\n",
    "For now we're starting with barrel hits only and can use the 0-9 layer number as the ID.\n",
    "We'll then use consecutive layer numbers as the criteria.\n",
    "\n",
    "This logic should be made extensible to non-barrel geometry and even module-level pairings."
   ]
  },
  {
   "cell_type": "code",
   "execution_count": 16,
   "metadata": {},
   "outputs": [],
   "source": [
    "gid_keys = 'layer'\n",
    "n_det_layers = 10\n",
    "gid_start = np.arange(0, n_det_layers-1)\n",
    "gid_end = np.arange(1, n_det_layers)"
   ]
  },
  {
   "cell_type": "markdown",
   "metadata": {},
   "source": [
    "## Segment construction\n",
    "\n",
    "Now for every geometry ID pair we construct hit-pair segments."
   ]
  },
  {
   "cell_type": "code",
   "execution_count": 17,
   "metadata": {},
   "outputs": [],
   "source": [
    "def get_segments(hits, gid_keys, gid_start, gid_end):\n",
    "\n",
    "    # Group hits by geometry ID\n",
    "    hit_gid_groups = hits.groupby(gid_keys)\n",
    "\n",
    "    segments = []\n",
    "\n",
    "    # Loop over geometry ID pairs\n",
    "    for gid1, gid2 in zip(gid_start, gid_end):\n",
    "        hits1 = hit_gid_groups.get_group(gid1)\n",
    "        hits2 = hit_gid_groups.get_group(gid2)\n",
    "\n",
    "        # Join all hit pairs together\n",
    "        hit_pairs = pd.merge(\n",
    "            hits1.reset_index(), hits2.reset_index(),\n",
    "            how='inner', on='evtid', suffixes=('_1', '_2'))\n",
    "\n",
    "        # Calculate coordinate differences\n",
    "        dphi = calc_dphi(hit_pairs.phi_1, hit_pairs.phi_2)\n",
    "        dz = hit_pairs.z_2 - hit_pairs.z_1\n",
    "        dr = hit_pairs.r_2 - hit_pairs.r_1\n",
    "        phi_slope = dphi / dr\n",
    "        z0 = hit_pairs.z_1 - hit_pairs.r_1 * dz / dr\n",
    "\n",
    "        # Identify the true pairs\n",
    "        y = (hit_pairs.particle_id_1 == hit_pairs.particle_id_2) & (hit_pairs.particle_id_1 != 0)\n",
    "        \n",
    "\n",
    "        # Put the results in a new dataframe\n",
    "        segments.append(hit_pairs[['evtid', 'index_1', 'index_2', 'layer_1', 'layer_2']]\n",
    "                        .assign(dphi=dphi, dz=dz, dr=dr, y=y, phi_slope=phi_slope, z0=z0))\n",
    "\n",
    "    return pd.concat(segments, ignore_index=True)"
   ]
  },
  {
   "cell_type": "code",
   "execution_count": 18,
   "metadata": {},
   "outputs": [],
   "source": [
    "segments = get_segments(hits=hits, gid_keys=gid_keys, gid_start=gid_start, gid_end=gid_end)"
   ]
  },
  {
   "cell_type": "markdown",
   "metadata": {},
   "source": [
    "## Plot the full segment distributions"
   ]
  },
  {
   "cell_type": "code",
   "execution_count": 19,
   "metadata": {},
   "outputs": [],
   "source": [
    "# Choose some cuts\n",
    "phi_slope_min = 0.\n",
    "phi_slope_max = 0.0006\n",
    "z0_max = 200"
   ]
  },
  {
   "cell_type": "code",
   "execution_count": 20,
   "metadata": {},
   "outputs": [
    {
     "data": {
      "image/png": "[encoded data removed]",
      "text/plain": [
       "<Figure size 1008x432 with 2 Axes>"
      ]
     },
     "metadata": {
      "needs_background": "light"
     },
     "output_type": "display_data"
    }
   ],
   "source": [
    "fig, ax = plt.subplots(1,2,figsize=(14,6))\n",
    "\n",
    "true_segs = segments[segments.y]\n",
    "fake_segs = segments[segments.y == False]\n",
    "\n",
    "binning=dict(bins=50, range=(-0.002, 0.002))\n",
    "ax[0].hist(fake_segs.phi_slope, label='fake', log=True, **binning)\n",
    "ax[0].hist(true_segs.phi_slope, label='true', **binning)\n",
    "ax[0].axvline(x=phi_slope_max,linestyle='--',color='black');\n",
    "ax[0].axvline(x=-phi_slope_max,linestyle='--',color='black');\n",
    "ax[0].set_xlabel('$\\Delta \\phi / \\Delta r$ [rad/mm]')\n",
    "ax[0].legend(loc=0)\n",
    "ax[0].ticklabel_format(axis=\"x\", style=\"sci\",scilimits=(0,0))\n",
    "\n",
    "binning=dict(bins=50, range=(-500, 500))\n",
    "ax[1].hist(fake_segs.z0, label='fake', log=True, **binning)\n",
    "ax[1].hist(true_segs.z0, label='true', **binning)\n",
    "ax[1].axvline(x=z0_max,linestyle='--',color='black');\n",
    "ax[1].axvline(x=-z0_max,linestyle='--',color='black');\n",
    "ax[1].set_xlabel('$z_0$ [mm]')\n",
    "plt.legend(loc=0)\n",
    "\n",
    "plt.tight_layout()"
   ]
  },
  {
   "cell_type": "markdown",
   "metadata": {},
   "source": [
    "## Segment selection"
   ]
  },
  {
   "cell_type": "code",
   "execution_count": 21,
   "metadata": {},
   "outputs": [],
   "source": [
    "def select_segments(segments, phi_slope_min, phi_slope_max, z0_max):\n",
    "    sel_mask = ((segments.phi_slope.abs() > phi_slope_min) &\n",
    "                (segments.phi_slope.abs() < phi_slope_max) &\n",
    "                (segments.z0.abs() < z0_max))\n",
    "    return segments.assign(selected=sel_mask)\n",
    "\n",
    "def segment_efficiency(segments):\n",
    "    # Effiency of true edge selection\n",
    "    return (segments.y & segments.selected).sum() / segments.y.sum()\n",
    "\n",
    "def segment_purity(segment):\n",
    "    # How many of the selected edges are true edges\n",
    "    return (segments.y & segments.selected).sum() / segments.selected.sum()"
   ]
  },
  {
   "cell_type": "code",
   "execution_count": 22,
   "metadata": {},
   "outputs": [],
   "source": [
    "# Choose some cuts\n",
    "phi_slope_min = 0.\n",
    "phi_slope_max = 0.0006\n",
    "z0_max = 200"
   ]
  },
  {
   "cell_type": "code",
   "execution_count": 23,
   "metadata": {},
   "outputs": [
    {
     "name": "stdout",
     "output_type": "stream",
     "text": [
      "Selection efficiency 0.9952 purity 0.3607\n"
     ]
    }
   ],
   "source": [
    "segments = select_segments(segments, phi_slope_min=phi_slope_min,\n",
    "                           phi_slope_max=phi_slope_max, z0_max=z0_max)\n",
    "\n",
    "print('Selection efficiency %.4f purity %.4f' % (segment_efficiency(segments), segment_purity(segments)))"
   ]
  },
  {
   "cell_type": "code",
   "execution_count": 24,
   "metadata": {},
   "outputs": [
    {
     "name": "stdout",
     "output_type": "stream",
     "text": [
      "Selection efficiency for high pt particles:\n",
      "  0.9952 for pt > 500 MeV\n",
      "  0.9952 for pt > 1.0 GeV\n"
     ]
    }
   ],
   "source": [
    "# What is the selection efficiency for high pt particle segments?\n",
    "true_segments = segments[segments.y]\n",
    "true_seg_pt = hits.loc[true_segments.index_1].pt.values\n",
    "true_segments = true_segments.assign(pt=true_seg_pt)\n",
    "\n",
    "print('Selection efficiency for high pt particles:')\n",
    "print('  %.4f for pt > 500 MeV' % segment_efficiency(true_segments[true_segments.pt > 0.5]))\n",
    "print('  %.4f for pt > 1.0 GeV' % segment_efficiency(true_segments[true_segments.pt > 1]))"
   ]
  },
  {
   "cell_type": "code",
   "execution_count": 25,
   "metadata": {},
   "outputs": [
    {
     "name": "stdout",
     "output_type": "stream",
     "text": [
      "Total selected segments: 13316\n"
     ]
    }
   ],
   "source": [
    "print('Total selected segments: %d'%(segments.selected.sum()))"
   ]
  },
  {
   "cell_type": "code",
   "execution_count": null,
   "metadata": {},
   "outputs": [],
   "source": []
  }
 ],
 "metadata": {
  "kernelspec": {
   "display_name": "Python 3",
   "language": "python",
   "name": "python3"
  },
  "language_info": {
   "codemirror_mode": {
    "name": "ipython",
    "version": 3
   },
   "file_extension": ".py",
   "mimetype": "text/x-python",
   "name": "python",
   "nbconvert_exporter": "python",
   "pygments_lexer": "ipython3",
   "version": "3.8.3"
  }
 },
 "nbformat": 4,
 "nbformat_minor": 2
}
